{
 "cells": [
  {
   "cell_type": "code",
   "execution_count": 2,
   "id": "3059cb08",
   "metadata": {
    "scrolled": true
   },
   "outputs": [],
   "source": [
    "import pandas as pd\n",
    "df = pd.read_json (r'C:\\Users\\katak\\PycharmProjects\\linguistics\\new_dataset.json')"
   ]
  },
  {
   "cell_type": "code",
   "execution_count": 3,
   "id": "a7c242b5",
   "metadata": {
    "scrolled": true
   },
   "outputs": [
    {
     "data": {
      "text/html": [
       "<div>\n",
       "<style scoped>\n",
       "    .dataframe tbody tr th:only-of-type {\n",
       "        vertical-align: middle;\n",
       "    }\n",
       "\n",
       "    .dataframe tbody tr th {\n",
       "        vertical-align: top;\n",
       "    }\n",
       "\n",
       "    .dataframe thead th {\n",
       "        text-align: right;\n",
       "    }\n",
       "</style>\n",
       "<table border=\"1\" class=\"dataframe\">\n",
       "  <thead>\n",
       "    <tr style=\"text-align: right;\">\n",
       "      <th></th>\n",
       "      <th>Disney_Period</th>\n",
       "      <th>Text</th>\n",
       "      <th>Speaker_Status</th>\n",
       "      <th>Movie</th>\n",
       "      <th>Speaker</th>\n",
       "      <th>Year</th>\n",
       "      <th>UTTERANCE_NUMBER</th>\n",
       "      <th>tokens</th>\n",
       "      <th>pos</th>\n",
       "      <th>len</th>\n",
       "      <th>word_order</th>\n",
       "    </tr>\n",
       "  </thead>\n",
       "  <tbody>\n",
       "    <tr>\n",
       "      <th>0</th>\n",
       "      <td>EARLY</td>\n",
       "      <td>slave in the magic mirror come from the farthe...</td>\n",
       "      <td>NON-P</td>\n",
       "      <td>Snow White</td>\n",
       "      <td>queen</td>\n",
       "      <td>1937</td>\n",
       "      <td>1</td>\n",
       "      <td>[{'word': 'slave', 'pos': 'NOUN', 'lemma': 'sl...</td>\n",
       "      <td>{'NOUN': 7, 'VERB': 5, 'ADJ': 1, 'PRON': 1}</td>\n",
       "      <td>23</td>\n",
       "      <td>[SV, V, V]</td>\n",
       "    </tr>\n",
       "    <tr>\n",
       "      <th>1</th>\n",
       "      <td>EARLY</td>\n",
       "      <td>what wouldst thou know, my queen ?</td>\n",
       "      <td>NON-P</td>\n",
       "      <td>Snow White</td>\n",
       "      <td>mirror</td>\n",
       "      <td>1937</td>\n",
       "      <td>2</td>\n",
       "      <td>[{'word': 'wouldst', 'pos': 'ADJ', 'lemma': 'w...</td>\n",
       "      <td>{'ADJ': 1, 'NOUN': 2, 'VERB': 1}</td>\n",
       "      <td>6</td>\n",
       "      <td>[OSV]</td>\n",
       "    </tr>\n",
       "    <tr>\n",
       "      <th>2</th>\n",
       "      <td>EARLY</td>\n",
       "      <td>magic mirror on the wall, who is the fairest o...</td>\n",
       "      <td>NON-P</td>\n",
       "      <td>Snow White</td>\n",
       "      <td>queen</td>\n",
       "      <td>1937</td>\n",
       "      <td>3</td>\n",
       "      <td>[{'word': 'magic', 'pos': 'NOUN', 'lemma': 'ma...</td>\n",
       "      <td>{'NOUN': 3, 'ADJ': 1}</td>\n",
       "      <td>12</td>\n",
       "      <td>[V]</td>\n",
       "    </tr>\n",
       "  </tbody>\n",
       "</table>\n",
       "</div>"
      ],
      "text/plain": [
       "  Disney_Period                                               Text  \\\n",
       "0         EARLY  slave in the magic mirror come from the farthe...   \n",
       "1         EARLY                what wouldst thou know, my queen ?    \n",
       "2         EARLY  magic mirror on the wall, who is the fairest o...   \n",
       "\n",
       "  Speaker_Status        Movie Speaker  Year  UTTERANCE_NUMBER  \\\n",
       "0          NON-P  Snow White    queen  1937                 1   \n",
       "1          NON-P  Snow White   mirror  1937                 2   \n",
       "2          NON-P  Snow White    queen  1937                 3   \n",
       "\n",
       "                                              tokens  \\\n",
       "0  [{'word': 'slave', 'pos': 'NOUN', 'lemma': 'sl...   \n",
       "1  [{'word': 'wouldst', 'pos': 'ADJ', 'lemma': 'w...   \n",
       "2  [{'word': 'magic', 'pos': 'NOUN', 'lemma': 'ma...   \n",
       "\n",
       "                                           pos  len  word_order  \n",
       "0  {'NOUN': 7, 'VERB': 5, 'ADJ': 1, 'PRON': 1}   23  [SV, V, V]  \n",
       "1             {'ADJ': 1, 'NOUN': 2, 'VERB': 1}    6       [OSV]  \n",
       "2                        {'NOUN': 3, 'ADJ': 1}   12         [V]  "
      ]
     },
     "execution_count": 3,
     "metadata": {},
     "output_type": "execute_result"
    }
   ],
   "source": [
    "df.head(3)"
   ]
  },
  {
   "cell_type": "code",
   "execution_count": 16,
   "id": "432cd17a",
   "metadata": {},
   "outputs": [],
   "source": [
    "from pandas import Series\n",
    "\n",
    "df2 = df[[\"Speaker_Status\", \"word_order\"]]\n",
    "s = df2['word_order'].apply(Series, 1).stack()\n",
    "s.index = s.index.droplevel(-1)\n",
    "s.name = 'word_order2'\n",
    "del df2['word_order']\n",
    "#df2.join(s)\n",
    "#df2.head(3)\n",
    "df2 = df2.join(s, lsuffix='_caller', rsuffix='_other')"
   ]
  },
  {
   "cell_type": "code",
   "execution_count": 32,
   "id": "9d8862ef",
   "metadata": {},
   "outputs": [
    {
     "data": {
      "text/plain": [
       "<AxesSubplot:title={'center':'Порядок слов в предложениях челяди'}, xlabel='Порядок слов', ylabel='Кол-во реплик'>"
      ]
     },
     "execution_count": 32,
     "metadata": {},
     "output_type": "execute_result"
    },
    {
     "data": {
      "image/png": "[encoded data removed]",
      "text/plain": [
       "<Figure size 432x288 with 1 Axes>"
      ]
     },
     "metadata": {
      "needs_background": "light"
     },
     "output_type": "display_data"
    }
   ],
   "source": [
    "df3 = df2[df2[\"Speaker_Status\"] == \"NON-P\"]\n",
    "df3[\"word_order2\"].value_counts()\n",
    "df3[\"word_order2\"].value_counts().plot.bar(\n",
    "    title=\"Порядок слов в предложениях челяди\",\n",
    "    xlabel=\"Порядок слов\",\n",
    "    ylabel=\"Кол-во реплик\"\n",
    ")"
   ]
  },
  {
   "cell_type": "code",
   "execution_count": 25,
   "id": "10f4fbaf",
   "metadata": {},
   "outputs": [
    {
     "data": {
      "image/png": "[encoded data removed]",
      "text/plain": [
       "<Figure size 432x288 with 1 Axes>"
      ]
     },
     "metadata": {
      "needs_background": "light"
     },
     "output_type": "display_data"
    }
   ],
   "source": [
    "df4 = df[[\"Speaker_Status\", \"len\"]]\n",
    "df5 = df4[df4[\"Speaker_Status\"] == \"PRINCE\"]\n",
    "df4[\"len\"].value_counts().sort_index().plot(\n",
    "    title=\"Кол-во слов в предложениях у принцев\", \n",
    "    xlabel=\"Кол-во слов\",\n",
    "    ylabel=\"Кол-во предложений\"\n",
    ");"
   ]
  },
  {
   "cell_type": "code",
   "execution_count": 37,
   "id": "fa0879f0",
   "metadata": {},
   "outputs": [
    {
     "data": {
      "image/png": "[encoded data removed]",
      "text/plain": [
       "<Figure size 432x288 with 1 Axes>"
      ]
     },
     "metadata": {
      "needs_background": "light"
     },
     "output_type": "display_data"
    }
   ],
   "source": [
    "df4 = df[[\"Speaker_Status\", \"len\"]]\n",
    "df5 = df4[df4[\"Speaker_Status\"] == \"NON-P\"]\n",
    "lenn = df5[\"len\"]\n",
    "lenn.plot.hist(bins=1000, xlim=(0, 50), title=\"Количество слов в предложениях челяди\")\n",
    "plt.xlabel(\"Количество слов\");\n",
    "#df5[\"UTTERANCE_NUMBER\"].value_counts().plot.bar(\n",
    "#    title=\"Количество предложений на реплику принца\",\n",
    "#    xlabel=\"Количество реплик\",\n",
    "#    ylabel=\"Кол-во предложений\"\n",
    "#)\n"
   ]
  },
  {
   "cell_type": "code",
   "execution_count": null,
   "id": "b61d9d20",
   "metadata": {},
   "outputs": [],
   "source": []
  }
 ],
 "metadata": {
  "kernelspec": {
   "display_name": "Python 3 (ipykernel)",
   "language": "python",
   "name": "python3"
  },
  "language_info": {
   "codemirror_mode": {
    "name": "ipython",
    "version": 3
   },
   "file_extension": ".py",
   "mimetype": "text/x-python",
   "name": "python",
   "nbconvert_exporter": "python",
   "pygments_lexer": "ipython3",
   "version": "3.9.4"
  }
 },
 "nbformat": 4,
 "nbformat_minor": 5
}
