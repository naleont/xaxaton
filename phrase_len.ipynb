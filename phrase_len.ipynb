{
 "cells": [
  {
   "cell_type": "code",
   "execution_count": 7,
   "id": "00ac5d6c-58f1-4df9-a127-ccb85e33ae9d",
   "metadata": {},
   "outputs": [],
   "source": [
    "import csv\n",
    "import nltk \n",
    "from nltk.tokenize import word_tokenize\n",
    "\n",
    "def phrase_len(rows):\n",
    "    for row in rows:\n",
    "        phrase = row['Text']\n",
    "        words = [w.lower() for w in word_tokenize(phrase) if w.isalpha()]\n",
    "        row['len'] = len(words)\n",
    "    return rows"
   ]
  },
  {
   "cell_type": "code",
   "execution_count": 8,
   "id": "230426d9-3207-455e-847d-34f01bdf89d0",
   "metadata": {},
   "outputs": [],
   "source": [
    "rows = []\n",
    "with open('princess_corpus.csv', encoding='utf-8') as csvfile:\n",
    "    reader = csv.DictReader(csvfile)\n",
    "    for row in reader:\n",
    "        row = dict(row)\n",
    "        rows.append(row)\n",
    "\n",
    "rows = phrase_len(rows)"
   ]
  },
  {
   "cell_type": "code",
   "execution_count": 9,
   "id": "bcfed376-84cf-4236-a6df-cb3badcd2aa8",
   "metadata": {},
   "outputs": [
    {
     "name": "stdout",
     "output_type": "stream",
     "text": [
      "[{'Disney_Period': 'EARLY', 'Text': 'slave in the magic mirror come from the farthest space through wind and darkness i summon thee. speak ! let me see thy face. ', 'Speaker_Status': 'NON-P', 'Movie': 'Snow White ', 'Speaker': 'queen', 'Year': '1937', 'UTTERANCE_NUMBER': '1', 'len': 23}, {'Disney_Period': 'EARLY', 'Text': 'what wouldst thou know, my queen ? ', 'Speaker_Status': 'NON-P', 'Movie': 'Snow White ', 'Speaker': 'mirror', 'Year': '1937', 'UTTERANCE_NUMBER': '2', 'len': 6}]\n"
     ]
    }
   ],
   "source": [
    "print(rows[0:2])"
   ]
  }
 ],
 "metadata": {
  "kernelspec": {
   "display_name": "Python 3 (ipykernel)",
   "language": "python",
   "name": "python3"
  },
  "language_info": {
   "codemirror_mode": {
    "name": "ipython",
    "version": 3
   },
   "file_extension": ".py",
   "mimetype": "text/x-python",
   "name": "python",
   "nbconvert_exporter": "python",
   "pygments_lexer": "ipython3",
   "version": "3.10.0"
  }
 },
 "nbformat": 4,
 "nbformat_minor": 5
}
