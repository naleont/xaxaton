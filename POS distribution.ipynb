{
 "cells": [
  {
   "cell_type": "code",
   "execution_count": 27,
   "id": "66320b53-50b4-4c0d-a886-70d5b79e3f57",
   "metadata": {},
   "outputs": [],
   "source": [
    "import spacy\n",
    "nlp = spacy.load('en_core_web_sm')"
   ]
  },
  {
   "cell_type": "code",
   "execution_count": 54,
   "id": "a14fdc60-0295-4eed-b769-bebd5b34beea",
   "metadata": {},
   "outputs": [],
   "source": [
    "import csv"
   ]
  },
  {
   "cell_type": "code",
   "execution_count": 107,
   "id": "01e3e505-2084-4863-83d2-756f465c7908",
   "metadata": {},
   "outputs": [],
   "source": [
    "rows = []\n",
    "\n",
    "with open('princess_corpus.csv', encoding='utf-8') as csvfile:\n",
    "    reader = csv.DictReader(csvfile)\n",
    "    for row in reader:\n",
    "        row = dict(row)\n",
    "        rows.append(row)"
   ]
  },
  {
   "cell_type": "code",
   "execution_count": 112,
   "id": "a2532b13-c17f-4fef-b83d-0436d2089bda",
   "metadata": {},
   "outputs": [],
   "source": [
    "def parse(rows):\n",
    "    for row in rows:\n",
    "        doc = nlp(row['Text'])\n",
    "        row['tokens'] = []\n",
    "        for token in doc:\n",
    "            if token.pos_ != 'PUNCT' and token.is_stop is False:\n",
    "                tokens = dict()\n",
    "                tokens['word'] = token.text\n",
    "                tokens['pos'] = token.pos_\n",
    "                tokens['lemma'] = token.lemma_\n",
    "                row['tokens'].append(tokens)\n",
    "    return rows"
   ]
  },
  {
   "cell_type": "code",
   "execution_count": 117,
   "id": "a875bf4f-6699-4a52-be3c-26ea18af4b73",
   "metadata": {},
   "outputs": [],
   "source": [
    "def pos(rows):\n",
    "    rows = parse(rows)\n",
    "    for row in rows:\n",
    "        pos_distribution = dict()\n",
    "        for token in row['tokens']:\n",
    "            if token['pos'] in pos_distribution.keys():\n",
    "                pos_distribution[token['pos']] += 1\n",
    "            else:\n",
    "                pos_distribution[token['pos']] = 1\n",
    "        row['pos'] = pos_distribution\n",
    "    return rows"
   ]
  },
  {
   "cell_type": "code",
   "execution_count": 118,
   "id": "3c23513f-6c30-48a4-8b63-8ed46c404aec",
   "metadata": {},
   "outputs": [
    {
     "name": "stdout",
     "output_type": "stream",
     "text": [
      "[{'Disney_Period': 'EARLY', 'Text': 'slave in the magic mirror come from the farthest space through wind and darkness i summon thee. speak ! let me see thy face. ', 'Speaker_Status': 'NON-P', 'Movie': 'Snow White ', 'Speaker': 'queen', 'Year': '1937', 'UTTERANCE_NUMBER': '1', 'tokens': [{'word': 'slave', 'pos': 'NOUN', 'lemma': 'slave'}, {'word': 'magic', 'pos': 'NOUN', 'lemma': 'magic'}, {'word': 'mirror', 'pos': 'NOUN', 'lemma': 'mirror'}, {'word': 'come', 'pos': 'VERB', 'lemma': 'come'}, {'word': 'farthest', 'pos': 'ADJ', 'lemma': 'farth'}, {'word': 'space', 'pos': 'NOUN', 'lemma': 'space'}, {'word': 'wind', 'pos': 'NOUN', 'lemma': 'wind'}, {'word': 'darkness', 'pos': 'NOUN', 'lemma': 'darkness'}, {'word': 'summon', 'pos': 'VERB', 'lemma': 'summon'}, {'word': 'thee', 'pos': 'VERB', 'lemma': 'thee'}, {'word': 'speak', 'pos': 'VERB', 'lemma': 'speak'}, {'word': 'let', 'pos': 'VERB', 'lemma': 'let'}, {'word': 'thy', 'pos': 'PRON', 'lemma': 'thy'}, {'word': 'face', 'pos': 'NOUN', 'lemma': 'face'}], 'pos': {'NOUN': 7, 'VERB': 5, 'ADJ': 1, 'PRON': 1}}, {'Disney_Period': 'EARLY', 'Text': 'what wouldst thou know, my queen ? ', 'Speaker_Status': 'NON-P', 'Movie': 'Snow White ', 'Speaker': 'mirror', 'Year': '1937', 'UTTERANCE_NUMBER': '2', 'tokens': [{'word': 'wouldst', 'pos': 'ADJ', 'lemma': 'wouldst'}, {'word': 'thou', 'pos': 'NOUN', 'lemma': 'thou'}, {'word': 'know', 'pos': 'VERB', 'lemma': 'know'}, {'word': 'queen', 'pos': 'NOUN', 'lemma': 'queen'}], 'pos': {'ADJ': 1, 'NOUN': 2, 'VERB': 1}}]\n"
     ]
    }
   ],
   "source": [
    "pos = pos(rows)\n",
    "print(pos[:2])"
   ]
  }
 ],
 "metadata": {
  "kernelspec": {
   "display_name": "Python 3 (ipykernel)",
   "language": "python",
   "name": "python3"
  },
  "language_info": {
   "codemirror_mode": {
    "name": "ipython",
    "version": 3
   },
   "file_extension": ".py",
   "mimetype": "text/x-python",
   "name": "python",
   "nbconvert_exporter": "python",
   "pygments_lexer": "ipython3",
   "version": "3.10.0"
  }
 },
 "nbformat": 4,
 "nbformat_minor": 5
}
